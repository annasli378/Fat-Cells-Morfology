{
  "nbformat": 4,
  "nbformat_minor": 0,
  "metadata": {
    "colab": {
      "provenance": [],
      "mount_file_id": "1zS-Iy83kt9LtApcnlX4YeP2d35a1V9Zw",
      "authorship_tag": "ABX9TyMpsP+SZ0krZKW3/ChyFa3e",
      "include_colab_link": true
    },
    "kernelspec": {
      "name": "python3",
      "display_name": "Python 3"
    },
    "language_info": {
      "name": "python"
    }
  },
  "cells": [
    {
      "cell_type": "markdown",
      "metadata": {
        "id": "view-in-github",
        "colab_type": "text"
      },
      "source": [
        "<a href=\"https://colab.research.google.com/github/annasli378/Fat-Cells-Morphology/blob/main/fatcells_features.ipynb\" target=\"_parent\"><img src=\"https://colab.research.google.com/assets/colab-badge.svg\" alt=\"Open In Colab\"/></a>"
      ]
    },
    {
      "cell_type": "code",
      "execution_count": 1,
      "metadata": {
        "id": "kHk-OOfUWhSo"
      },
      "outputs": [],
      "source": [
        "# IMPORTS\n",
        "import numpy as np\n",
        "import pandas as pd\n",
        "import glob\n",
        "import matplotlib.pyplot as plt\n",
        "import cv2,sys\n",
        "from tqdm import tqdm\n",
        "import scipy.io as sio\n",
        "from scipy.spatial import Delaunay, delaunay_plot_2d, Voronoi, voronoi_plot_2d"
      ]
    },
    {
      "cell_type": "markdown",
      "source": [
        "# FUNCTIONS FROM REPOSITORY (WITH SOME CHANGES):\n",
        "https://github.com/abebe9849/Crohn_wsi\n"
      ],
      "metadata": {
        "id": "dIyVD3gmn13F"
      }
    },
    {
      "cell_type": "code",
      "source": [
        "def water_shed(gray_img,color_img,p=0.1):\n",
        "    kernel = cv2.getStructuringElement(cv2.MORPH_RECT, (2, 2))\n",
        "    sure_bg = cv2.dilate(gray_img, kernel, iterations=2)## はいぱら\n",
        "    dist = cv2.distanceTransform(gray_img, cv2.DIST_L2, 5)\n",
        "    ret, sure_fg = cv2.threshold(dist, p * dist.max(), 255, cv2.THRESH_BINARY)\n",
        "    sure_fg = sure_fg.astype(np.uint8)\n",
        "    unknown = cv2.subtract(sure_bg, sure_fg)\n",
        "    n_labels, markers = cv2.connectedComponents(sure_fg)\n",
        "    markers += 1\n",
        "    markers[unknown == 255] = 0\n",
        "    markers = cv2.watershed(color_img, markers)\n",
        "    return markers\n",
        "\n",
        "def img_and(mask,canny):  # uint8 ndarray0~255\n",
        "    canny = (255-canny)/255\n",
        "    mask = mask/255\n",
        "    new_img = np.logical_and(canny,mask)\n",
        "    return new_img\n",
        "\n",
        "def each_cell_vori(markers,thresh=0.03,plot=True):\n",
        "    u, counts = np.unique(markers.ravel(), return_counts=True)\n",
        "    areas = []\n",
        "    emp = np.zeros_like(markers)\n",
        "    margin_num = 0\n",
        "    points = []\n",
        "    ellipses  = []\n",
        "    ellipses_rate = []\n",
        "    emp_2 = np.zeros_like(markers)\n",
        "\n",
        "    for cls,s in zip(u,counts):\n",
        "        if cls<0:\n",
        "            tmp_img = (markers == cls)\n",
        "\n",
        "            continue#枠(-1)\n",
        "        if s<500:continue\n",
        "        if s >1024*1024*thresh:\n",
        "            if plot:\n",
        "                tmp_img = (markers == cls)\n",
        "\n",
        "            margin_num+=1\n",
        "            continue\n",
        "        tmp_img = (markers == cls)\n",
        "        emp[np.where(markers == cls)]=cls\n",
        "        emp_2[np.where(markers == cls)]=cls\n",
        "        mu = cv2.moments(emp_2.astype(\"uint8\"), False)\n",
        "        try:\n",
        "            x,y= int(mu[\"m10\"]/mu[\"m00\"]) , int(mu[\"m01\"]/mu[\"m00\"])\n",
        "            points.append([x,y])\n",
        "        except Exception as e:\n",
        "            print(\"center not...\")\n",
        "            x,y = (0,0)\n",
        "            points.append([x,y])\n",
        "\n",
        "        contours, hierarchy = cv2.findContours(emp_2.astype(\"uint8\"),cv2.RETR_TREE, cv2.CHAIN_APPROX_SIMPLE)\n",
        "\n",
        "        mx_area = 0\n",
        "        for cont in contours:\n",
        "            x_,y_,w,h = cv2.boundingRect(cont)\n",
        "            area = w*h\n",
        "            if area > mx_area:\n",
        "                mx_area = area\n",
        "                if area<10 or len(cont)<5:continue\n",
        "                try:\n",
        "                    ellipse = cv2.fitEllipse(cont)\n",
        "                except Exception as e:\n",
        "                    print(len(cont))\n",
        "\n",
        "        try:\n",
        "            ellipses.append([ellipse[1][0],ellipse[1][1]])\n",
        "            ellipses_rate.append(ellipse[1][0]/ellipse[1][1])##h/w\n",
        "        except Exception as e:\n",
        "            print(e)\n",
        "        emp_2 = cv2.circle(emp_2, (x,y), 4, 100, 2, 4)\n",
        "        emp_2[np.where(markers == cls)]=0\n",
        "\n",
        "        if cls%200==0 and plot:\n",
        "            plt.title(f\"class{cls} area{s}\")\n",
        "            plt.imshow(tmp_img)\n",
        "            plt.show()\n",
        "        areas.append(s)\n",
        "    back_area = counts[2]\n",
        "\n",
        "    for xy in  points:\n",
        "        x = xy[0]\n",
        "        y =xy[1]\n",
        "        emp = cv2.circle(emp, (x,y), 4, 100, 2, 4)\n",
        "\n",
        "    norms = []\n",
        "    try:\n",
        "        tri = Delaunay(points)\n",
        "        tri_points = tri.points\n",
        "\n",
        "        for i in range(len(tri_points)):\n",
        "            for j in range(i,len(tri_points)):\n",
        "                if i==j:continue\n",
        "                x_i = tri_points[i][0]\n",
        "                y_i = tri_points[i][1]\n",
        "                x_j = tri_points[j][0]\n",
        "                y_j = tri_points[j][1]\n",
        "                nolm = ((x_i-x_j)**2+(y_i-y_j)**2)**0.5\n",
        "                norms.append(nolm)\n",
        "    except Exception as e:\n",
        "        plt.imshow(emp)\n",
        "        plt.savefig(\"error.png\")\n",
        "        plt.imshow(markers)\n",
        "        plt.savefig(\"error1.png\")\n",
        "    return emp,areas,back_area,margin_num,norms,ellipses_rate\n",
        "\n",
        "def margin_to_black_plus(markers,color_img,gray_img,distant=None,p=0.1,thresh = 0.03,thresh_margin=0.05,plot=False):\n",
        "    u, counts = np.unique(markers.ravel(), return_counts=True)\n",
        "    points = []##ボロノイ分割よう\n",
        "    ellipses  = []\n",
        "    ellipses_rate = []\n",
        "    emp_2 = np.zeros_like(markers)\n",
        "\n",
        "    kernel = cv2.getStructuringElement(cv2.MORPH_RECT, (2, 2))\n",
        "    sure_bg = cv2.dilate(gray_img, kernel, iterations=2)## はいぱら\n",
        "    if distant is None:\n",
        "\n",
        "        dist = cv2.distanceTransform(gray_img, cv2.DIST_L2, 5)\n",
        "        ret, sure_fg = cv2.threshold(dist, p * dist.max(), 255, cv2.THRESH_BINARY)\n",
        "    else:\n",
        "        dist = cv2.distanceTransform(distant, cv2.DIST_L2, 5)\n",
        "        ret, sure_fg = cv2.threshold(dist, p * dist.max()*0.05, 255, cv2.THRESH_BINARY)\n",
        "\n",
        "    sure_fg = sure_fg.astype(np.uint8)\n",
        "    unknown = cv2.subtract(sure_bg, sure_fg)\n",
        "    n_labels, markers = cv2.connectedComponents(sure_fg)\n",
        "    markers += 1\n",
        "    markers[unknown == 255] = 0\n",
        "    markers = cv2.watershed(color_img, markers)\n",
        "\n",
        "    u, counts = np.unique(markers.ravel(), return_counts=True)\n",
        "    areas = []\n",
        "    emp = np.zeros_like(markers)\n",
        "    margin_num = 0\n",
        "    for cls,s in zip(u,counts):\n",
        "        if cls<0:\n",
        "            continue\n",
        "        if s<500:continue\n",
        "        if s >1024*1024*thresh:\n",
        "            margin_num+=1\n",
        "            if plot:\n",
        "                tmp_img = (markers == cls)\n",
        "                plt.title(f\"class{cls} area{s}\")\n",
        "                plt.imshow(tmp_img)\n",
        "                plt.show()\n",
        "            continue\n",
        "        tmp_img = (markers == cls)\n",
        "        emp[np.where(markers == cls)]=cls\n",
        "        emp_2[np.where(markers == cls)]=cls\n",
        "        mu = cv2.moments(emp_2.astype(\"uint8\"), False)\n",
        "\n",
        "        try:\n",
        "            x,y= int(mu[\"m10\"]/mu[\"m00\"]) , int(mu[\"m01\"]/mu[\"m00\"])\n",
        "            points.append([x,y])\n",
        "        except Exception as e:\n",
        "            print(\"center not...\")\n",
        "            x,y = (0,0)\n",
        "            points.append([x,y])\n",
        "\n",
        "        contours, hierarchy = cv2.findContours(emp_2.astype(\"uint8\"),cv2.RETR_TREE, cv2.CHAIN_APPROX_SIMPLE)\n",
        "        mx_area = 0\n",
        "        for cont in contours:\n",
        "            x_,y_,w,h = cv2.boundingRect(cont)\n",
        "            area = w*h\n",
        "            if area > mx_area:\n",
        "                mx_area = area\n",
        "                if area<10 or len(cont)<5:continue\n",
        "                ellipse = cv2.fitEllipse(cont)\n",
        "        try:\n",
        "            ellipses.append([ellipse[1][0],ellipse[1][1]])\n",
        "        except Exception as e:\n",
        "            plt.imshow(color_img)\n",
        "            plt.savefig(\"error2.png\")\n",
        "            plt.imshow(emp)\n",
        "            plt.savefig(\"error.png\")\n",
        "            plt.imshow(gray_img)\n",
        "            plt.savefig(\"error3.png\")\n",
        "            sys.exit()\n",
        "\n",
        "        ellipses_rate.append(ellipse[1][0]/ellipse[1][1])##h/w\n",
        "        emp_2 = cv2.circle(emp_2, (x,y), 4, 100, 2, 4)\n",
        "        emp_2[np.where(markers == cls)]=0\n",
        "\n",
        "        if cls%200==0 and plot:\n",
        "            plt.title(f\"class{cls} area{s}\")\n",
        "            plt.imshow(tmp_img)\n",
        "            plt.show()\n",
        "        areas.append(s)\n",
        "    back_area = counts[2]\n",
        "\n",
        "    for xy in  points:\n",
        "        x = xy[0]\n",
        "        y =xy[1]\n",
        "        emp = cv2.circle(emp, (x,y), 4, 100, 2, 4)\n",
        "    norms = []\n",
        "\n",
        "    try:\n",
        "        tri = Delaunay(points)\n",
        "        tri_points = tri.points\n",
        "        for i in range(len(tri_points)):\n",
        "            for j in range(i,len(tri_points)):\n",
        "                if i==j:continue\n",
        "                x_i = tri_points[i][0]\n",
        "                y_i = tri_points[i][1]\n",
        "                x_j = tri_points[j][0]\n",
        "                y_j = tri_points[j][1]\n",
        "                nolm = ((x_i-x_j)**2+(y_i-y_j)**2)**0.5\n",
        "                norms.append(nolm)\n",
        "    except Exception as e:\n",
        "        print(len(areas))\n",
        "    return emp,areas,back_area,margin_num,norms,ellipses_rate\n",
        "\n",
        "def calc_analyze_plus(path,label,num):\n",
        "    areas_ = []\n",
        "    backgrounds = []\n",
        "    distants = []\n",
        "    ellipses_rates = []\n",
        "    for idx in tqdm(range(num)):\n",
        "        if label==0:\n",
        "            img = img =cv2.imread(path)\n",
        "        else:\n",
        "            img = img =cv2.imread(path)\n",
        "        gray = cv2.cvtColor(img, cv2.COLOR_BGR2GRAY)\n",
        "        retval, mask = cv2.threshold(gray, thresh=gray.mean(0).mean(0), maxval=255, type=cv2.THRESH_BINARY)\n",
        "        markers = water_shed(mask,img)\n",
        "        new_markers,areas,back_area,margin_num,norms,ellipses_rate = each_cell_vori(markers,plot=False)\n",
        "        if len(areas)<20:\n",
        "            gray_3 = cv2.Canny(gray,0,30)\n",
        "            kernel_size = (5,5)\n",
        "            kernel = cv2.getStructuringElement(cv2.MORPH_ELLIPSE, kernel_size)\n",
        "            dilation = cv2.dilate(gray_3,kernel,iterations = 1)\n",
        "            dilation = 255-dilation\n",
        "            gray_3 = img_and(mask,gray_3)\n",
        "            gray_3 = (gray_3*255).astype(\"uint8\")\n",
        "            gray_color = cv2.cvtColor(gray_3,cv2.COLOR_GRAY2RGB)\n",
        "            new_markers_2,areas_new,back_area_new,margin_num_new,norms_new,ellipses_rate_new  = margin_to_black_plus(markers,img,mask,distant=dilation,p=0.1,thresh = 0.03,thresh_margin=0.05,plot=False)\n",
        "\n",
        "        if len(areas)<20 and len(areas)>0:\n",
        "            areas_.append(areas_new)\n",
        "            distants.append(norms_new)\n",
        "            ellipses_rates.append(ellipses_rate_new)\n",
        "            backgrounds.append(back_area)\n",
        "        elif len(areas)>=20:\n",
        "            areas_.append(areas)\n",
        "            distants.append(norms)\n",
        "            ellipses_rates.append(ellipses_rate)\n",
        "            backgrounds.append(back_area)\n",
        "    return areas_,backgrounds,distants,ellipses_rates\n",
        "\n",
        "# GET PATEINT NAMES FROM GIVEN DATA\n",
        "def get_patient_name(path_to_file):\n",
        "    path_to_file=path.rsplit('.', 1)[0]\n",
        "    path_to_file=path_to_file.rsplit('/', 1)[1]\n",
        "    path_to_file=path_to_file.rsplit('_', 1)[0]\n",
        "    return path_to_file"
      ],
      "metadata": {
        "id": "7arreZacWlNU"
      },
      "execution_count": 12,
      "outputs": []
    },
    {
      "cell_type": "code",
      "source": [
        "pth = '/content/drive/MyDrive/FAT_CELLS/'"
      ],
      "metadata": {
        "id": "LfgNWo2AWqz5"
      },
      "execution_count": 3,
      "outputs": []
    },
    {
      "cell_type": "code",
      "source": [
        "# EXAMPLE\n",
        "test_img_path = '/content/drive/MyDrive/FAT_CELLS/Batch1/004_1.tif' # path to test image\n",
        "test_res = calc_analyze_plus(test_img_path,0,1)\n",
        "\n",
        "t_areas = test_res[0][0]\n",
        "num_cells = len(test_res[0][0])\n",
        "\n",
        "print(f\" NUMBER OF CELLS: {num_cells}\")\n"
      ],
      "metadata": {
        "id": "9j1NkeQJW8An",
        "colab": {
          "base_uri": "https://localhost:8080/"
        },
        "outputId": "22cd2417-c8d9-47db-8feb-57f771ee840c"
      },
      "execution_count": 4,
      "outputs": [
        {
          "output_type": "stream",
          "name": "stderr",
          "text": [
            "100%|██████████| 1/1 [00:03<00:00,  3.07s/it]"
          ]
        },
        {
          "output_type": "stream",
          "name": "stdout",
          "text": [
            " NUMBER OF CELLS: 87\n"
          ]
        },
        {
          "output_type": "stream",
          "name": "stderr",
          "text": [
            "\n"
          ]
        }
      ]
    },
    {
      "cell_type": "code",
      "source": [
        "# MORE DATA\n",
        "batch_1 = glob.glob(pth+\"Batch1*/*\")\n",
        "batch_2 = glob.glob(pth+\"Batch2*/*\")"
      ],
      "metadata": {
        "id": "TP9evFLaWy3n"
      },
      "execution_count": 5,
      "outputs": []
    },
    {
      "cell_type": "code",
      "source": [
        "pac_means = pd.DataFrame(columns=['patient_name','areas','background','distants','flatness'])\n",
        "\n",
        "all_names = []\n",
        "all_areas_med = []\n",
        "all_bckgrnd_med = []\n",
        "all_dist_med = []\n",
        "all_flt_med = []\n",
        "\n",
        "patient_names = []"
      ],
      "metadata": {
        "id": "MEA6y4jeXqpD"
      },
      "execution_count": 6,
      "outputs": []
    },
    {
      "cell_type": "code",
      "source": [
        "for path in batch_1:\n",
        "    print(path)\n",
        "    name = get_patient_name(path)\n",
        "    all_names.append(name)\n",
        "\n",
        "    test_res = calc_analyze_plus(path,0,1)\n",
        "    if len(all_names)>2 and name == all_names[-2]:\n",
        "        print(name)\n",
        "\n",
        "        all_areas_med[-1].append(test_res[0][0])\n",
        "        all_bckgrnd_med[-1].append(test_res[1])\n",
        "        all_dist_med[-1].append(test_res[2][0])\n",
        "        all_flt_med[-1].append(test_res[3][0])\n",
        "\n",
        "    else:\n",
        "        patient_names.append(name)\n",
        "        all_areas_med.append(test_res[0][0])\n",
        "        all_bckgrnd_med.append(test_res[1])\n",
        "        all_dist_med.append(test_res[2][0])\n",
        "        all_flt_med.append(test_res[3][0])\n",
        "\n",
        "for path in batch_2:\n",
        "    print(path)\n",
        "    name = get_patient_name(path)\n",
        "    all_names.append(name)\n",
        "\n",
        "    test_res = calc_analyze_plus(path,0,1)\n",
        "    if len(all_names)>2 and name == all_names[-2]:\n",
        "        print(name)\n",
        "\n",
        "        all_areas_med[-1].append(test_res[0][0])\n",
        "        all_bckgrnd_med[-1].append(test_res[1])\n",
        "        all_dist_med[-1].append(test_res[2][0])\n",
        "        all_flt_med[-1].append(test_res[3][0])\n",
        "\n",
        "    else:\n",
        "        patient_names.append(name)\n",
        "        all_areas_med.append(test_res[0][0])\n",
        "        all_bckgrnd_med.append(test_res[1])\n",
        "        all_dist_med.append(test_res[2][0])\n",
        "        all_flt_med.append(test_res[3][0])\n",
        "\n",
        "# FOR ALL DATA\n",
        "pac_means['patient_name'] = patient_names\n",
        "pac_means['areas'] = all_areas_med\n",
        "pac_means['background'] = all_bckgrnd_med\n",
        "pac_means['distants'] = all_dist_med\n",
        "pac_means['flatness'] = all_flt_med"
      ],
      "metadata": {
        "collapsed": true,
        "id": "Iv2f-_XDXRws",
        "colab": {
          "base_uri": "https://localhost:8080/",
          "height": 1000
        },
        "outputId": "571c0573-d6a2-489d-ff5d-0858a9b9bdac"
      },
      "execution_count": 7,
      "outputs": [
        {
          "output_type": "stream",
          "name": "stdout",
          "text": [
            "/content/drive/MyDrive/FAT_CELLS/Batch1/081_3.tif\n"
          ]
        },
        {
          "output_type": "stream",
          "name": "stderr",
          "text": [
            "100%|██████████| 1/1 [00:01<00:00,  1.53s/it]\n"
          ]
        },
        {
          "output_type": "stream",
          "name": "stdout",
          "text": [
            "/content/drive/MyDrive/FAT_CELLS/Batch1/062_3.tif\n"
          ]
        },
        {
          "output_type": "stream",
          "name": "stderr",
          "text": [
            "100%|██████████| 1/1 [00:00<00:00,  1.14it/s]\n"
          ]
        },
        {
          "output_type": "stream",
          "name": "stdout",
          "text": [
            "/content/drive/MyDrive/FAT_CELLS/Batch1/053_4.tif\n"
          ]
        },
        {
          "output_type": "stream",
          "name": "stderr",
          "text": [
            "100%|██████████| 1/1 [00:01<00:00,  1.70s/it]\n"
          ]
        },
        {
          "output_type": "stream",
          "name": "stdout",
          "text": [
            "/content/drive/MyDrive/FAT_CELLS/Batch1/082_2.tif\n"
          ]
        },
        {
          "output_type": "stream",
          "name": "stderr",
          "text": [
            "100%|██████████| 1/1 [00:01<00:00,  1.23s/it]\n"
          ]
        },
        {
          "output_type": "stream",
          "name": "stdout",
          "text": [
            "/content/drive/MyDrive/FAT_CELLS/Batch1/015_1.tif\n"
          ]
        },
        {
          "output_type": "stream",
          "name": "stderr",
          "text": [
            "100%|██████████| 1/1 [00:01<00:00,  1.21s/it]\n"
          ]
        },
        {
          "output_type": "stream",
          "name": "stdout",
          "text": [
            "/content/drive/MyDrive/FAT_CELLS/Batch1/005_3.tif\n"
          ]
        },
        {
          "output_type": "stream",
          "name": "stderr",
          "text": [
            "100%|██████████| 1/1 [00:01<00:00,  1.05s/it]\n"
          ]
        },
        {
          "output_type": "stream",
          "name": "stdout",
          "text": [
            "/content/drive/MyDrive/FAT_CELLS/Batch1/020_3.tif\n"
          ]
        },
        {
          "output_type": "stream",
          "name": "stderr",
          "text": [
            "100%|██████████| 1/1 [00:01<00:00,  1.74s/it]\n"
          ]
        },
        {
          "output_type": "stream",
          "name": "stdout",
          "text": [
            "/content/drive/MyDrive/FAT_CELLS/Batch1/004_1.tif\n"
          ]
        },
        {
          "output_type": "stream",
          "name": "stderr",
          "text": [
            "100%|██████████| 1/1 [00:00<00:00,  1.27it/s]\n"
          ]
        },
        {
          "output_type": "stream",
          "name": "stdout",
          "text": [
            "/content/drive/MyDrive/FAT_CELLS/Batch1/044_2.tif\n"
          ]
        },
        {
          "output_type": "stream",
          "name": "stderr",
          "text": [
            "100%|██████████| 1/1 [00:01<00:00,  1.29s/it]\n"
          ]
        },
        {
          "output_type": "stream",
          "name": "stdout",
          "text": [
            "/content/drive/MyDrive/FAT_CELLS/Batch1/077_3.tif\n"
          ]
        },
        {
          "output_type": "stream",
          "name": "stderr",
          "text": [
            "100%|██████████| 1/1 [00:01<00:00,  1.54s/it]\n"
          ]
        },
        {
          "output_type": "stream",
          "name": "stdout",
          "text": [
            "/content/drive/MyDrive/FAT_CELLS/Batch1/031_2.tif\n"
          ]
        },
        {
          "output_type": "stream",
          "name": "stderr",
          "text": [
            "100%|██████████| 1/1 [00:01<00:00,  1.60s/it]\n"
          ]
        },
        {
          "output_type": "stream",
          "name": "stdout",
          "text": [
            "/content/drive/MyDrive/FAT_CELLS/Batch1/004_3.tif\n"
          ]
        },
        {
          "output_type": "stream",
          "name": "stderr",
          "text": [
            "100%|██████████| 1/1 [00:01<00:00,  1.05s/it]\n"
          ]
        },
        {
          "output_type": "stream",
          "name": "stdout",
          "text": [
            "/content/drive/MyDrive/FAT_CELLS/Batch1/082_1.tif\n"
          ]
        },
        {
          "output_type": "stream",
          "name": "stderr",
          "text": [
            "100%|██████████| 1/1 [00:01<00:00,  1.02s/it]\n"
          ]
        },
        {
          "output_type": "stream",
          "name": "stdout",
          "text": [
            "/content/drive/MyDrive/FAT_CELLS/Batch1/078_3.tif\n"
          ]
        },
        {
          "output_type": "stream",
          "name": "stderr",
          "text": [
            "100%|██████████| 1/1 [00:00<00:00,  1.29it/s]\n"
          ]
        },
        {
          "output_type": "stream",
          "name": "stdout",
          "text": [
            "/content/drive/MyDrive/FAT_CELLS/Batch1/030_2.tif\n"
          ]
        },
        {
          "output_type": "stream",
          "name": "stderr",
          "text": [
            "100%|██████████| 1/1 [00:00<00:00,  1.41it/s]\n"
          ]
        },
        {
          "output_type": "stream",
          "name": "stdout",
          "text": [
            "/content/drive/MyDrive/FAT_CELLS/Batch1/035_2.tif\n"
          ]
        },
        {
          "output_type": "stream",
          "name": "stderr",
          "text": [
            "100%|██████████| 1/1 [00:00<00:00,  1.34it/s]\n"
          ]
        },
        {
          "output_type": "stream",
          "name": "stdout",
          "text": [
            "/content/drive/MyDrive/FAT_CELLS/Batch1/004_2.tif\n"
          ]
        },
        {
          "output_type": "stream",
          "name": "stderr",
          "text": [
            "100%|██████████| 1/1 [00:00<00:00,  1.30it/s]\n"
          ]
        },
        {
          "output_type": "stream",
          "name": "stdout",
          "text": [
            "/content/drive/MyDrive/FAT_CELLS/Batch1/066_3.tif\n"
          ]
        },
        {
          "output_type": "stream",
          "name": "stderr",
          "text": [
            "100%|██████████| 1/1 [00:00<00:00,  1.56it/s]\n"
          ]
        },
        {
          "output_type": "stream",
          "name": "stdout",
          "text": [
            "/content/drive/MyDrive/FAT_CELLS/Batch1/066_2.tif\n"
          ]
        },
        {
          "output_type": "stream",
          "name": "stderr",
          "text": [
            "100%|██████████| 1/1 [00:00<00:00,  2.06it/s]\n"
          ]
        },
        {
          "output_type": "stream",
          "name": "stdout",
          "text": [
            "066\n",
            "/content/drive/MyDrive/FAT_CELLS/Batch1/082_3.tif\n"
          ]
        },
        {
          "output_type": "stream",
          "name": "stderr",
          "text": [
            "100%|██████████| 1/1 [00:00<00:00,  2.10it/s]\n"
          ]
        },
        {
          "output_type": "stream",
          "name": "stdout",
          "text": [
            "/content/drive/MyDrive/FAT_CELLS/Batch1/039_3.tif\n"
          ]
        },
        {
          "output_type": "stream",
          "name": "stderr",
          "text": [
            "100%|██████████| 1/1 [00:00<00:00,  1.82it/s]\n"
          ]
        },
        {
          "output_type": "stream",
          "name": "stdout",
          "text": [
            "/content/drive/MyDrive/FAT_CELLS/Batch1/039_1.tif\n"
          ]
        },
        {
          "output_type": "stream",
          "name": "stderr",
          "text": [
            "100%|██████████| 1/1 [00:00<00:00,  1.10it/s]\n"
          ]
        },
        {
          "output_type": "stream",
          "name": "stdout",
          "text": [
            "039\n",
            "/content/drive/MyDrive/FAT_CELLS/Batch1/078_2.tif\n"
          ]
        },
        {
          "output_type": "stream",
          "name": "stderr",
          "text": [
            "100%|██████████| 1/1 [00:00<00:00,  1.11it/s]\n"
          ]
        },
        {
          "output_type": "stream",
          "name": "stdout",
          "text": [
            "/content/drive/MyDrive/FAT_CELLS/Batch1/034_1.tif\n"
          ]
        },
        {
          "output_type": "stream",
          "name": "stderr",
          "text": [
            "100%|██████████| 1/1 [00:00<00:00,  1.74it/s]\n"
          ]
        },
        {
          "output_type": "stream",
          "name": "stdout",
          "text": [
            "/content/drive/MyDrive/FAT_CELLS/Batch1/053_2.tif\n"
          ]
        },
        {
          "output_type": "stream",
          "name": "stderr",
          "text": [
            "100%|██████████| 1/1 [00:00<00:00,  1.00it/s]\n"
          ]
        },
        {
          "output_type": "stream",
          "name": "stdout",
          "text": [
            "/content/drive/MyDrive/FAT_CELLS/Batch1/030_1.tif\n"
          ]
        },
        {
          "output_type": "stream",
          "name": "stderr",
          "text": [
            "100%|██████████| 1/1 [00:00<00:00,  1.15it/s]\n"
          ]
        },
        {
          "output_type": "stream",
          "name": "stdout",
          "text": [
            "/content/drive/MyDrive/FAT_CELLS/Batch1/069_1.tif\n"
          ]
        },
        {
          "output_type": "stream",
          "name": "stderr",
          "text": [
            "100%|██████████| 1/1 [00:00<00:00,  1.00it/s]\n"
          ]
        },
        {
          "output_type": "stream",
          "name": "stdout",
          "text": [
            "/content/drive/MyDrive/FAT_CELLS/Batch1/020_1.tif\n"
          ]
        },
        {
          "output_type": "stream",
          "name": "stderr",
          "text": [
            "100%|██████████| 1/1 [00:01<00:00,  1.25s/it]\n"
          ]
        },
        {
          "output_type": "stream",
          "name": "stdout",
          "text": [
            "/content/drive/MyDrive/FAT_CELLS/Batch1/031_1.tif\n"
          ]
        },
        {
          "output_type": "stream",
          "name": "stderr",
          "text": [
            "100%|██████████| 1/1 [00:01<00:00,  1.56s/it]\n"
          ]
        },
        {
          "output_type": "stream",
          "name": "stdout",
          "text": [
            "/content/drive/MyDrive/FAT_CELLS/Batch1/003_1.tif\n"
          ]
        },
        {
          "output_type": "stream",
          "name": "stderr",
          "text": [
            "100%|██████████| 1/1 [00:00<00:00,  1.19it/s]\n"
          ]
        },
        {
          "output_type": "stream",
          "name": "stdout",
          "text": [
            "/content/drive/MyDrive/FAT_CELLS/Batch1/075_1.tif\n"
          ]
        },
        {
          "output_type": "stream",
          "name": "stderr",
          "text": [
            "100%|██████████| 1/1 [00:00<00:00,  2.06it/s]\n"
          ]
        },
        {
          "output_type": "stream",
          "name": "stdout",
          "text": [
            "/content/drive/MyDrive/FAT_CELLS/Batch1/062_2.tif\n"
          ]
        },
        {
          "output_type": "stream",
          "name": "stderr",
          "text": [
            "100%|██████████| 1/1 [00:01<00:00,  1.17s/it]\n"
          ]
        },
        {
          "output_type": "stream",
          "name": "stdout",
          "text": [
            "/content/drive/MyDrive/FAT_CELLS/Batch1/039_4.tif\n"
          ]
        },
        {
          "output_type": "stream",
          "name": "stderr",
          "text": [
            "100%|██████████| 1/1 [00:01<00:00,  1.14s/it]\n"
          ]
        },
        {
          "output_type": "stream",
          "name": "stdout",
          "text": [
            "/content/drive/MyDrive/FAT_CELLS/Batch1/056_1.tif\n"
          ]
        },
        {
          "output_type": "stream",
          "name": "stderr",
          "text": [
            "100%|██████████| 1/1 [00:01<00:00,  1.16s/it]\n"
          ]
        },
        {
          "output_type": "stream",
          "name": "stdout",
          "text": [
            "/content/drive/MyDrive/FAT_CELLS/Batch1/062_1.tif\n"
          ]
        },
        {
          "output_type": "stream",
          "name": "stderr",
          "text": [
            "100%|██████████| 1/1 [00:00<00:00,  1.06it/s]\n"
          ]
        },
        {
          "output_type": "stream",
          "name": "stdout",
          "text": [
            "/content/drive/MyDrive/FAT_CELLS/Batch1/077_2.tif\n"
          ]
        },
        {
          "output_type": "stream",
          "name": "stderr",
          "text": [
            "100%|██████████| 1/1 [00:01<00:00,  1.09s/it]\n"
          ]
        },
        {
          "output_type": "stream",
          "name": "stdout",
          "text": [
            "/content/drive/MyDrive/FAT_CELLS/Batch1/024_1.tif\n"
          ]
        },
        {
          "output_type": "stream",
          "name": "stderr",
          "text": [
            "100%|██████████| 1/1 [00:01<00:00,  1.17s/it]\n"
          ]
        },
        {
          "output_type": "stream",
          "name": "stdout",
          "text": [
            "/content/drive/MyDrive/FAT_CELLS/Batch1/005_1.tif\n"
          ]
        },
        {
          "output_type": "stream",
          "name": "stderr",
          "text": [
            "100%|██████████| 1/1 [00:00<00:00,  1.16it/s]\n"
          ]
        },
        {
          "output_type": "stream",
          "name": "stdout",
          "text": [
            "/content/drive/MyDrive/FAT_CELLS/Batch1/035_1.tif\n"
          ]
        },
        {
          "output_type": "stream",
          "name": "stderr",
          "text": [
            "100%|██████████| 1/1 [00:00<00:00,  1.37it/s]\n"
          ]
        },
        {
          "output_type": "stream",
          "name": "stdout",
          "text": [
            "/content/drive/MyDrive/FAT_CELLS/Batch1/024_2.tif\n"
          ]
        },
        {
          "output_type": "stream",
          "name": "stderr",
          "text": [
            "100%|██████████| 1/1 [00:00<00:00,  1.70it/s]\n"
          ]
        },
        {
          "output_type": "stream",
          "name": "stdout",
          "text": [
            "/content/drive/MyDrive/FAT_CELLS/Batch1/081_2.tif\n"
          ]
        },
        {
          "output_type": "stream",
          "name": "stderr",
          "text": [
            "100%|██████████| 1/1 [00:01<00:00,  1.12s/it]\n"
          ]
        },
        {
          "output_type": "stream",
          "name": "stdout",
          "text": [
            "/content/drive/MyDrive/FAT_CELLS/Batch1/053_1.tif\n"
          ]
        },
        {
          "output_type": "stream",
          "name": "stderr",
          "text": [
            "100%|██████████| 1/1 [00:00<00:00,  1.60it/s]\n"
          ]
        },
        {
          "output_type": "stream",
          "name": "stdout",
          "text": [
            "/content/drive/MyDrive/FAT_CELLS/Batch1/005_2.tif\n"
          ]
        },
        {
          "output_type": "stream",
          "name": "stderr",
          "text": [
            "100%|██████████| 1/1 [00:00<00:00,  1.09it/s]\n"
          ]
        },
        {
          "output_type": "stream",
          "name": "stdout",
          "text": [
            "/content/drive/MyDrive/FAT_CELLS/Batch1/053_3.tif\n"
          ]
        },
        {
          "output_type": "stream",
          "name": "stderr",
          "text": [
            "100%|██████████| 1/1 [00:01<00:00,  1.11s/it]\n"
          ]
        },
        {
          "output_type": "stream",
          "name": "stdout",
          "text": [
            "/content/drive/MyDrive/FAT_CELLS/Batch1/066_1.tif\n"
          ]
        },
        {
          "output_type": "stream",
          "name": "stderr",
          "text": [
            "100%|██████████| 1/1 [00:00<00:00,  1.45it/s]\n"
          ]
        },
        {
          "output_type": "stream",
          "name": "stdout",
          "text": [
            "/content/drive/MyDrive/FAT_CELLS/Batch1/035_3.tif\n"
          ]
        },
        {
          "output_type": "stream",
          "name": "stderr",
          "text": [
            "100%|██████████| 1/1 [00:00<00:00,  1.50it/s]\n"
          ]
        },
        {
          "output_type": "stream",
          "name": "stdout",
          "text": [
            "/content/drive/MyDrive/FAT_CELLS/Batch1/009_1.tif\n"
          ]
        },
        {
          "output_type": "stream",
          "name": "stderr",
          "text": [
            "100%|██████████| 1/1 [00:01<00:00,  1.25s/it]\n"
          ]
        },
        {
          "output_type": "stream",
          "name": "stdout",
          "text": [
            "/content/drive/MyDrive/FAT_CELLS/Batch1/020_2.tif\n"
          ]
        },
        {
          "output_type": "stream",
          "name": "stderr",
          "text": [
            "100%|██████████| 1/1 [00:01<00:00,  1.12s/it]\n"
          ]
        },
        {
          "output_type": "stream",
          "name": "stdout",
          "text": [
            "/content/drive/MyDrive/FAT_CELLS/Batch1/044_1.tif\n"
          ]
        },
        {
          "output_type": "stream",
          "name": "stderr",
          "text": [
            "100%|██████████| 1/1 [00:00<00:00,  1.37it/s]\n"
          ]
        },
        {
          "output_type": "stream",
          "name": "stdout",
          "text": [
            "/content/drive/MyDrive/FAT_CELLS/Batch1/078_1.tif\n"
          ]
        },
        {
          "output_type": "stream",
          "name": "stderr",
          "text": [
            "100%|██████████| 1/1 [00:01<00:00,  1.06s/it]\n"
          ]
        },
        {
          "output_type": "stream",
          "name": "stdout",
          "text": [
            "/content/drive/MyDrive/FAT_CELLS/Batch1/027_1.tif\n"
          ]
        },
        {
          "output_type": "stream",
          "name": "stderr",
          "text": [
            "100%|██████████| 1/1 [00:00<00:00,  1.21it/s]\n"
          ]
        },
        {
          "output_type": "stream",
          "name": "stdout",
          "text": [
            "/content/drive/MyDrive/FAT_CELLS/Batch1/027_2.tif\n"
          ]
        },
        {
          "output_type": "stream",
          "name": "stderr",
          "text": [
            "100%|██████████| 1/1 [00:00<00:00,  1.04it/s]\n"
          ]
        },
        {
          "output_type": "stream",
          "name": "stdout",
          "text": [
            "027\n",
            "/content/drive/MyDrive/FAT_CELLS/Batch1/081_1.tif\n"
          ]
        },
        {
          "output_type": "stream",
          "name": "stderr",
          "text": [
            "100%|██████████| 1/1 [00:00<00:00,  1.18it/s]\n"
          ]
        },
        {
          "output_type": "stream",
          "name": "stdout",
          "text": [
            "/content/drive/MyDrive/FAT_CELLS/Batch1/056_2.tif\n"
          ]
        },
        {
          "output_type": "stream",
          "name": "stderr",
          "text": [
            "100%|██████████| 1/1 [00:01<00:00,  1.59s/it]\n"
          ]
        },
        {
          "output_type": "stream",
          "name": "stdout",
          "text": [
            "/content/drive/MyDrive/FAT_CELLS/Batch1/056_3.tif\n"
          ]
        },
        {
          "output_type": "stream",
          "name": "stderr",
          "text": [
            "100%|██████████| 1/1 [00:00<00:00,  1.05it/s]\n"
          ]
        },
        {
          "output_type": "stream",
          "name": "stdout",
          "text": [
            "056\n",
            "/content/drive/MyDrive/FAT_CELLS/Batch1/018_1.tif\n"
          ]
        },
        {
          "output_type": "stream",
          "name": "stderr",
          "text": [
            "100%|██████████| 1/1 [00:01<00:00,  1.50s/it]\n"
          ]
        },
        {
          "output_type": "stream",
          "name": "stdout",
          "text": [
            "/content/drive/MyDrive/FAT_CELLS/Batch1/030_3.tif\n"
          ]
        },
        {
          "output_type": "stream",
          "name": "stderr",
          "text": [
            "100%|██████████| 1/1 [00:00<00:00,  1.42it/s]\n"
          ]
        },
        {
          "output_type": "stream",
          "name": "stdout",
          "text": [
            "/content/drive/MyDrive/FAT_CELLS/Batch1/077_1.tif\n"
          ]
        },
        {
          "output_type": "stream",
          "name": "stderr",
          "text": [
            "100%|██████████| 1/1 [00:01<00:00,  1.10s/it]\n"
          ]
        },
        {
          "output_type": "stream",
          "name": "stdout",
          "text": [
            "/content/drive/MyDrive/FAT_CELLS/Batch1/039_2.tif\n"
          ]
        },
        {
          "output_type": "stream",
          "name": "stderr",
          "text": [
            "100%|██████████| 1/1 [00:00<00:00,  1.44it/s]\n"
          ]
        },
        {
          "output_type": "stream",
          "name": "stdout",
          "text": [
            "/content/drive/MyDrive/FAT_CELLS/Batch2/C11-849_A1_3.tif\n"
          ]
        },
        {
          "output_type": "stream",
          "name": "stderr",
          "text": [
            "100%|██████████| 1/1 [00:00<00:00,  1.16it/s]\n"
          ]
        },
        {
          "output_type": "stream",
          "name": "stdout",
          "text": [
            "/content/drive/MyDrive/FAT_CELLS/Batch2/C12-3017_A1_3.tif\n"
          ]
        },
        {
          "output_type": "stream",
          "name": "stderr",
          "text": [
            "100%|██████████| 1/1 [00:01<00:00,  1.86s/it]\n"
          ]
        },
        {
          "output_type": "stream",
          "name": "stdout",
          "text": [
            "/content/drive/MyDrive/FAT_CELLS/Batch2/C13-5419_A1_4.tif\n"
          ]
        },
        {
          "output_type": "stream",
          "name": "stderr",
          "text": [
            "100%|██████████| 1/1 [00:01<00:00,  1.01s/it]\n"
          ]
        },
        {
          "output_type": "stream",
          "name": "stdout",
          "text": [
            "/content/drive/MyDrive/FAT_CELLS/Batch2/11-1182_A8_1.tif\n"
          ]
        },
        {
          "output_type": "stream",
          "name": "stderr",
          "text": [
            "100%|██████████| 1/1 [00:01<00:00,  1.34s/it]\n"
          ]
        },
        {
          "output_type": "stream",
          "name": "stdout",
          "text": [
            "/content/drive/MyDrive/FAT_CELLS/Batch2/C12-2888_A1_2.tif\n"
          ]
        },
        {
          "output_type": "stream",
          "name": "stderr",
          "text": [
            "100%|██████████| 1/1 [00:01<00:00,  1.25s/it]\n"
          ]
        },
        {
          "output_type": "stream",
          "name": "stdout",
          "text": [
            "/content/drive/MyDrive/FAT_CELLS/Batch2/C12-3017_A1_1.tif\n"
          ]
        },
        {
          "output_type": "stream",
          "name": "stderr",
          "text": [
            "100%|██████████| 1/1 [00:01<00:00,  1.12s/it]\n"
          ]
        },
        {
          "output_type": "stream",
          "name": "stdout",
          "text": [
            "/content/drive/MyDrive/FAT_CELLS/Batch2/11-1182_A8_2.tif\n"
          ]
        },
        {
          "output_type": "stream",
          "name": "stderr",
          "text": [
            "100%|██████████| 1/1 [00:01<00:00,  1.22s/it]\n"
          ]
        },
        {
          "output_type": "stream",
          "name": "stdout",
          "text": [
            "/content/drive/MyDrive/FAT_CELLS/Batch2/C11-491_A11_2.tif\n"
          ]
        },
        {
          "output_type": "stream",
          "name": "stderr",
          "text": [
            "100%|██████████| 1/1 [00:00<00:00,  1.06it/s]\n"
          ]
        },
        {
          "output_type": "stream",
          "name": "stdout",
          "text": [
            "/content/drive/MyDrive/FAT_CELLS/Batch2/C12-4037_B1_1.tif\n"
          ]
        },
        {
          "output_type": "stream",
          "name": "stderr",
          "text": [
            "100%|██████████| 1/1 [00:01<00:00,  1.13s/it]\n"
          ]
        },
        {
          "output_type": "stream",
          "name": "stdout",
          "text": [
            "/content/drive/MyDrive/FAT_CELLS/Batch2/C13-5432_A1_1.tif\n"
          ]
        },
        {
          "output_type": "stream",
          "name": "stderr",
          "text": [
            "100%|██████████| 1/1 [00:00<00:00,  1.19it/s]\n"
          ]
        },
        {
          "output_type": "stream",
          "name": "stdout",
          "text": [
            "/content/drive/MyDrive/FAT_CELLS/Batch2/10-1132_A2_3.tif\n"
          ]
        },
        {
          "output_type": "stream",
          "name": "stderr",
          "text": [
            "100%|██████████| 1/1 [00:00<00:00,  1.16it/s]\n"
          ]
        },
        {
          "output_type": "stream",
          "name": "stdout",
          "text": [
            "/content/drive/MyDrive/FAT_CELLS/Batch2/C11-849_A1_2.tif\n"
          ]
        },
        {
          "output_type": "stream",
          "name": "stderr",
          "text": [
            "100%|██████████| 1/1 [00:00<00:00,  1.48it/s]\n"
          ]
        },
        {
          "output_type": "stream",
          "name": "stdout",
          "text": [
            "/content/drive/MyDrive/FAT_CELLS/Batch2/C12-2888_A1_1.tif\n"
          ]
        },
        {
          "output_type": "stream",
          "name": "stderr",
          "text": [
            "100%|██████████| 1/1 [00:01<00:00,  1.17s/it]\n"
          ]
        },
        {
          "output_type": "stream",
          "name": "stdout",
          "text": [
            "/content/drive/MyDrive/FAT_CELLS/Batch2/11-1182_A8_4.tif\n"
          ]
        },
        {
          "output_type": "stream",
          "name": "stderr",
          "text": [
            "100%|██████████| 1/1 [00:01<00:00,  1.29s/it]\n"
          ]
        },
        {
          "output_type": "stream",
          "name": "stdout",
          "text": [
            "/content/drive/MyDrive/FAT_CELLS/Batch2/10-1106_A1_1.tif\n"
          ]
        },
        {
          "output_type": "stream",
          "name": "stderr",
          "text": [
            "100%|██████████| 1/1 [00:00<00:00,  1.06it/s]\n"
          ]
        },
        {
          "output_type": "stream",
          "name": "stdout",
          "text": [
            "/content/drive/MyDrive/FAT_CELLS/Batch2/15982_A1_1.tif\n"
          ]
        },
        {
          "output_type": "stream",
          "name": "stderr",
          "text": [
            "100%|██████████| 1/1 [00:00<00:00,  1.00it/s]\n"
          ]
        },
        {
          "output_type": "stream",
          "name": "stdout",
          "text": [
            "/content/drive/MyDrive/FAT_CELLS/Batch2/15982_A1_3.tif\n"
          ]
        },
        {
          "output_type": "stream",
          "name": "stderr",
          "text": [
            "100%|██████████| 1/1 [00:00<00:00,  1.70it/s]\n"
          ]
        },
        {
          "output_type": "stream",
          "name": "stdout",
          "text": [
            "15982_A1\n",
            "/content/drive/MyDrive/FAT_CELLS/Batch2/C13-17033_A9_1.tif\n"
          ]
        },
        {
          "output_type": "stream",
          "name": "stderr",
          "text": [
            "100%|██████████| 1/1 [00:00<00:00,  1.28it/s]\n"
          ]
        },
        {
          "output_type": "stream",
          "name": "stdout",
          "text": [
            "/content/drive/MyDrive/FAT_CELLS/Batch2/05-117_A_1.tif\n"
          ]
        },
        {
          "output_type": "stream",
          "name": "stderr",
          "text": [
            "100%|██████████| 1/1 [00:01<00:00,  1.08s/it]\n"
          ]
        },
        {
          "output_type": "stream",
          "name": "stdout",
          "text": [
            "/content/drive/MyDrive/FAT_CELLS/Batch2/C12-5176_A12_2.tif\n"
          ]
        },
        {
          "output_type": "stream",
          "name": "stderr",
          "text": [
            "100%|██████████| 1/1 [00:01<00:00,  1.31s/it]\n"
          ]
        },
        {
          "output_type": "stream",
          "name": "stdout",
          "text": [
            "/content/drive/MyDrive/FAT_CELLS/Batch2/C11-491_A11_1.tif\n"
          ]
        },
        {
          "output_type": "stream",
          "name": "stderr",
          "text": [
            "100%|██████████| 1/1 [00:00<00:00,  1.14it/s]\n"
          ]
        },
        {
          "output_type": "stream",
          "name": "stdout",
          "text": [
            "/content/drive/MyDrive/FAT_CELLS/Batch2/C13-5419_A1_2.tif\n"
          ]
        },
        {
          "output_type": "stream",
          "name": "stderr",
          "text": [
            "100%|██████████| 1/1 [00:01<00:00,  1.13s/it]\n"
          ]
        },
        {
          "output_type": "stream",
          "name": "stdout",
          "text": [
            "/content/drive/MyDrive/FAT_CELLS/Batch2/C12-3936_B1_2.tif\n"
          ]
        },
        {
          "output_type": "stream",
          "name": "stderr",
          "text": [
            "100%|██████████| 1/1 [00:01<00:00,  1.09s/it]\n"
          ]
        },
        {
          "output_type": "stream",
          "name": "stdout",
          "text": [
            "/content/drive/MyDrive/FAT_CELLS/Batch2/10-1145_A1_2.tif\n"
          ]
        },
        {
          "output_type": "stream",
          "name": "stderr",
          "text": [
            "100%|██████████| 1/1 [00:01<00:00,  1.00s/it]\n"
          ]
        },
        {
          "output_type": "stream",
          "name": "stdout",
          "text": [
            "/content/drive/MyDrive/FAT_CELLS/Batch2/C12-4852_A2_1.tif\n"
          ]
        },
        {
          "output_type": "stream",
          "name": "stderr",
          "text": [
            "100%|██████████| 1/1 [00:00<00:00,  1.09it/s]\n"
          ]
        },
        {
          "output_type": "stream",
          "name": "stdout",
          "text": [
            "/content/drive/MyDrive/FAT_CELLS/Batch2/C13-5419_A1_1.tif\n"
          ]
        },
        {
          "output_type": "stream",
          "name": "stderr",
          "text": [
            "100%|██████████| 1/1 [00:01<00:00,  1.10s/it]\n"
          ]
        },
        {
          "output_type": "stream",
          "name": "stdout",
          "text": [
            "/content/drive/MyDrive/FAT_CELLS/Batch2/C12-5175_A1_2.tif\n"
          ]
        },
        {
          "output_type": "stream",
          "name": "stderr",
          "text": [
            "100%|██████████| 1/1 [00:01<00:00,  1.89s/it]\n"
          ]
        },
        {
          "output_type": "stream",
          "name": "stdout",
          "text": [
            "/content/drive/MyDrive/FAT_CELLS/Batch2/10-1145_A1_3.tif\n"
          ]
        },
        {
          "output_type": "stream",
          "name": "stderr",
          "text": [
            "100%|██████████| 1/1 [00:01<00:00,  1.02s/it]\n"
          ]
        },
        {
          "output_type": "stream",
          "name": "stdout",
          "text": [
            "/content/drive/MyDrive/FAT_CELLS/Batch2/10-044_A1_2.tif\n"
          ]
        },
        {
          "output_type": "stream",
          "name": "stderr",
          "text": [
            "100%|██████████| 1/1 [00:00<00:00,  1.17it/s]\n"
          ]
        },
        {
          "output_type": "stream",
          "name": "stdout",
          "text": [
            "/content/drive/MyDrive/FAT_CELLS/Batch2/C12-5176_A12_1.tif\n"
          ]
        },
        {
          "output_type": "stream",
          "name": "stderr",
          "text": [
            "100%|██████████| 1/1 [00:00<00:00,  1.64it/s]\n"
          ]
        },
        {
          "output_type": "stream",
          "name": "stdout",
          "text": [
            "/content/drive/MyDrive/FAT_CELLS/Batch2/C18-30376_A1_1.tif\n"
          ]
        },
        {
          "output_type": "stream",
          "name": "stderr",
          "text": [
            "100%|██████████| 1/1 [00:00<00:00,  1.11it/s]\n"
          ]
        },
        {
          "output_type": "stream",
          "name": "stdout",
          "text": [
            "/content/drive/MyDrive/FAT_CELLS/Batch2/10-1132_A2_4.tif\n"
          ]
        },
        {
          "output_type": "stream",
          "name": "stderr",
          "text": [
            "100%|██████████| 1/1 [00:01<00:00,  1.08s/it]\n"
          ]
        },
        {
          "output_type": "stream",
          "name": "stdout",
          "text": [
            "/content/drive/MyDrive/FAT_CELLS/Batch2/C11-849_A1_1.tif\n"
          ]
        },
        {
          "output_type": "stream",
          "name": "stderr",
          "text": [
            "100%|██████████| 1/1 [00:00<00:00,  1.10it/s]\n"
          ]
        },
        {
          "output_type": "stream",
          "name": "stdout",
          "text": [
            "/content/drive/MyDrive/FAT_CELLS/Batch2/10-1145_A1_1.tif\n"
          ]
        },
        {
          "output_type": "stream",
          "name": "stderr",
          "text": [
            "100%|██████████| 1/1 [00:00<00:00,  1.22it/s]\n"
          ]
        },
        {
          "output_type": "stream",
          "name": "stdout",
          "text": [
            "/content/drive/MyDrive/FAT_CELLS/Batch2/C12-5175_A1_1.tif\n"
          ]
        },
        {
          "output_type": "stream",
          "name": "stderr",
          "text": [
            "100%|██████████| 1/1 [00:01<00:00,  1.08s/it]\n"
          ]
        },
        {
          "output_type": "stream",
          "name": "stdout",
          "text": [
            "/content/drive/MyDrive/FAT_CELLS/Batch2/C18-30376_A1_3.tif\n"
          ]
        },
        {
          "output_type": "stream",
          "name": "stderr",
          "text": [
            "100%|██████████| 1/1 [00:00<00:00,  1.22it/s]\n"
          ]
        },
        {
          "output_type": "stream",
          "name": "stdout",
          "text": [
            "/content/drive/MyDrive/FAT_CELLS/Batch2/C12-2343_A1_1.tif\n"
          ]
        },
        {
          "output_type": "stream",
          "name": "stderr",
          "text": [
            "100%|██████████| 1/1 [00:00<00:00,  2.11it/s]\n"
          ]
        },
        {
          "output_type": "stream",
          "name": "stdout",
          "text": [
            "/content/drive/MyDrive/FAT_CELLS/Batch2/C12-5175_A1_3.tif\n"
          ]
        },
        {
          "output_type": "stream",
          "name": "stderr",
          "text": [
            "100%|██████████| 1/1 [00:01<00:00,  1.09s/it]\n"
          ]
        },
        {
          "output_type": "stream",
          "name": "stdout",
          "text": [
            "/content/drive/MyDrive/FAT_CELLS/Batch2/15982_A1_2.tif\n"
          ]
        },
        {
          "output_type": "stream",
          "name": "stderr",
          "text": [
            "100%|██████████| 1/1 [00:00<00:00,  1.97it/s]\n"
          ]
        },
        {
          "output_type": "stream",
          "name": "stdout",
          "text": [
            "/content/drive/MyDrive/FAT_CELLS/Batch2/11-1182_A8_3.tif\n"
          ]
        },
        {
          "output_type": "stream",
          "name": "stderr",
          "text": [
            "100%|██████████| 1/1 [00:00<00:00,  1.12it/s]\n"
          ]
        },
        {
          "output_type": "stream",
          "name": "stdout",
          "text": [
            "/content/drive/MyDrive/FAT_CELLS/Batch2/05-117_A_3.tif\n"
          ]
        },
        {
          "output_type": "stream",
          "name": "stderr",
          "text": [
            "100%|██████████| 1/1 [00:00<00:00,  1.49it/s]\n"
          ]
        },
        {
          "output_type": "stream",
          "name": "stdout",
          "text": [
            "/content/drive/MyDrive/FAT_CELLS/Batch2/C18-30756_A1_2.tif\n"
          ]
        },
        {
          "output_type": "stream",
          "name": "stderr",
          "text": [
            "100%|██████████| 1/1 [00:00<00:00,  1.19it/s]\n"
          ]
        },
        {
          "output_type": "stream",
          "name": "stdout",
          "text": [
            "/content/drive/MyDrive/FAT_CELLS/Batch2/C18-30376_A1_2.tif\n"
          ]
        },
        {
          "output_type": "stream",
          "name": "stderr",
          "text": [
            "100%|██████████| 1/1 [00:00<00:00,  1.93it/s]\n"
          ]
        },
        {
          "output_type": "stream",
          "name": "stdout",
          "text": [
            "/content/drive/MyDrive/FAT_CELLS/Batch2/C12-2936_A1_1.tif\n"
          ]
        },
        {
          "output_type": "stream",
          "name": "stderr",
          "text": [
            "100%|██████████| 1/1 [00:00<00:00,  1.17it/s]\n"
          ]
        },
        {
          "output_type": "stream",
          "name": "stdout",
          "text": [
            "/content/drive/MyDrive/FAT_CELLS/Batch2/C13-5419_A1_3.tif\n"
          ]
        },
        {
          "output_type": "stream",
          "name": "stderr",
          "text": [
            "100%|██████████| 1/1 [00:00<00:00,  1.60it/s]\n"
          ]
        },
        {
          "output_type": "stream",
          "name": "stdout",
          "text": [
            "/content/drive/MyDrive/FAT_CELLS/Batch2/C12-5176_A12_3.tif\n"
          ]
        },
        {
          "output_type": "stream",
          "name": "stderr",
          "text": [
            "100%|██████████| 1/1 [00:00<00:00,  1.63it/s]\n"
          ]
        },
        {
          "output_type": "stream",
          "name": "stdout",
          "text": [
            "/content/drive/MyDrive/FAT_CELLS/Batch2/10-044_A1_3.tif\n"
          ]
        },
        {
          "output_type": "stream",
          "name": "stderr",
          "text": [
            "100%|██████████| 1/1 [00:00<00:00,  1.92it/s]\n"
          ]
        },
        {
          "output_type": "stream",
          "name": "stdout",
          "text": [
            "/content/drive/MyDrive/FAT_CELLS/Batch2/10-1145_A1_4.tif\n"
          ]
        },
        {
          "output_type": "stream",
          "name": "stderr",
          "text": [
            "100%|██████████| 1/1 [00:00<00:00,  1.84it/s]\n"
          ]
        },
        {
          "output_type": "stream",
          "name": "stdout",
          "text": [
            "/content/drive/MyDrive/FAT_CELLS/Batch2/10-044_A1_1.tif\n"
          ]
        },
        {
          "output_type": "stream",
          "name": "stderr",
          "text": [
            "100%|██████████| 1/1 [00:00<00:00,  1.02it/s]\n"
          ]
        },
        {
          "output_type": "stream",
          "name": "stdout",
          "text": [
            "/content/drive/MyDrive/FAT_CELLS/Batch2/C11-491_A11_3.tif\n"
          ]
        },
        {
          "output_type": "stream",
          "name": "stderr",
          "text": [
            "100%|██████████| 1/1 [00:00<00:00,  2.05it/s]\n"
          ]
        },
        {
          "output_type": "stream",
          "name": "stdout",
          "text": [
            "/content/drive/MyDrive/FAT_CELLS/Batch2/10-1132_A2_2.tif\n"
          ]
        },
        {
          "output_type": "stream",
          "name": "stderr",
          "text": [
            "100%|██████████| 1/1 [00:00<00:00,  1.34it/s]\n"
          ]
        },
        {
          "output_type": "stream",
          "name": "stdout",
          "text": [
            "/content/drive/MyDrive/FAT_CELLS/Batch2/10-1132_A2_1.tif\n"
          ]
        },
        {
          "output_type": "stream",
          "name": "stderr",
          "text": [
            "100%|██████████| 1/1 [00:01<00:00,  1.55s/it]\n"
          ]
        },
        {
          "output_type": "stream",
          "name": "stdout",
          "text": [
            "10-1132_A2\n",
            "/content/drive/MyDrive/FAT_CELLS/Batch2/C13-5359_A1_1.tif\n"
          ]
        },
        {
          "output_type": "stream",
          "name": "stderr",
          "text": [
            "100%|██████████| 1/1 [00:00<00:00,  1.84it/s]\n"
          ]
        },
        {
          "output_type": "stream",
          "name": "stdout",
          "text": [
            "/content/drive/MyDrive/FAT_CELLS/Batch2/C12-2888_A1_3.tif\n"
          ]
        },
        {
          "output_type": "stream",
          "name": "stderr",
          "text": [
            "100%|██████████| 1/1 [00:01<00:00,  1.43s/it]\n"
          ]
        },
        {
          "output_type": "stream",
          "name": "stdout",
          "text": [
            "/content/drive/MyDrive/FAT_CELLS/Batch2/C12-2888_A1_4.tif\n"
          ]
        },
        {
          "output_type": "stream",
          "name": "stderr",
          "text": [
            "100%|██████████| 1/1 [00:00<00:00,  1.29it/s]\n"
          ]
        },
        {
          "output_type": "stream",
          "name": "stdout",
          "text": [
            "C12-2888_A1\n",
            "/content/drive/MyDrive/FAT_CELLS/Batch2/05-117_A_2.tif\n"
          ]
        },
        {
          "output_type": "stream",
          "name": "stderr",
          "text": [
            "100%|██████████| 1/1 [00:01<00:00,  1.25s/it]\n"
          ]
        },
        {
          "output_type": "stream",
          "name": "stdout",
          "text": [
            "/content/drive/MyDrive/FAT_CELLS/Batch2/C12-5175_A1_4.tif\n"
          ]
        },
        {
          "output_type": "stream",
          "name": "stderr",
          "text": [
            "100%|██████████| 1/1 [00:01<00:00,  1.08s/it]\n"
          ]
        },
        {
          "output_type": "stream",
          "name": "stdout",
          "text": [
            "/content/drive/MyDrive/FAT_CELLS/Batch2/C12-3936_B1_1.tif\n"
          ]
        },
        {
          "output_type": "stream",
          "name": "stderr",
          "text": [
            "100%|██████████| 1/1 [00:01<00:00,  1.04s/it]\n"
          ]
        },
        {
          "output_type": "stream",
          "name": "stdout",
          "text": [
            "/content/drive/MyDrive/FAT_CELLS/Batch2/C12-3017_A1_2.tif\n"
          ]
        },
        {
          "output_type": "stream",
          "name": "stderr",
          "text": [
            "100%|██████████| 1/1 [00:01<00:00,  1.18s/it]\n"
          ]
        },
        {
          "output_type": "stream",
          "name": "stdout",
          "text": [
            "/content/drive/MyDrive/FAT_CELLS/Batch2/10-1106_A1_2.tif\n"
          ]
        },
        {
          "output_type": "stream",
          "name": "stderr",
          "text": [
            "100%|██████████| 1/1 [00:01<00:00,  1.21s/it]\n"
          ]
        },
        {
          "output_type": "stream",
          "name": "stdout",
          "text": [
            "/content/drive/MyDrive/FAT_CELLS/Batch2/C18-30756_A1_1.tif\n"
          ]
        },
        {
          "output_type": "stream",
          "name": "stderr",
          "text": [
            "100%|██████████| 1/1 [00:00<00:00,  1.48it/s]\n"
          ]
        },
        {
          "output_type": "stream",
          "name": "stdout",
          "text": [
            "/content/drive/MyDrive/FAT_CELLS/Batch2/C18-30758_A1_1.tif\n"
          ]
        },
        {
          "output_type": "stream",
          "name": "stderr",
          "text": [
            "100%|██████████| 1/1 [00:01<00:00,  1.04s/it]\n"
          ]
        },
        {
          "output_type": "stream",
          "name": "stdout",
          "text": [
            "/content/drive/MyDrive/FAT_CELLS/Batch2/C18-30760_A2_1.tif\n"
          ]
        },
        {
          "output_type": "stream",
          "name": "stderr",
          "text": [
            "100%|██████████| 1/1 [00:01<00:00,  1.04s/it]\n"
          ]
        },
        {
          "output_type": "stream",
          "name": "stdout",
          "text": [
            "/content/drive/MyDrive/FAT_CELLS/Batch2/C18-31135_A1_1.tif\n"
          ]
        },
        {
          "output_type": "stream",
          "name": "stderr",
          "text": [
            "100%|██████████| 1/1 [00:00<00:00,  1.35it/s]\n"
          ]
        },
        {
          "output_type": "stream",
          "name": "stdout",
          "text": [
            "/content/drive/MyDrive/FAT_CELLS/Batch2/C18-31135_A1_3.tif\n"
          ]
        },
        {
          "output_type": "stream",
          "name": "stderr",
          "text": [
            "100%|██████████| 1/1 [00:00<00:00,  1.61it/s]\n"
          ]
        },
        {
          "output_type": "stream",
          "name": "stdout",
          "text": [
            "C18-31135_A1\n",
            "/content/drive/MyDrive/FAT_CELLS/Batch2/C18-31135_A1_2.tif\n"
          ]
        },
        {
          "output_type": "stream",
          "name": "stderr",
          "text": [
            "100%|██████████| 1/1 [00:00<00:00,  1.10it/s]\n"
          ]
        },
        {
          "output_type": "stream",
          "name": "stdout",
          "text": [
            "C18-31135_A1\n"
          ]
        },
        {
          "output_type": "display_data",
          "data": {
            "text/plain": [
              "<Figure size 640x480 with 1 Axes>"
            ],
            "image/png": "[encoded data removed]"
          },
          "metadata": {}
        }
      ]
    },
    {
      "cell_type": "code",
      "source": [
        "pac_means"
      ],
      "metadata": {
        "id": "Vcz75N3vZBVa",
        "colab": {
          "base_uri": "https://localhost:8080/",
          "height": 423
        },
        "outputId": "f76c0187-ab6c-442d-9b26-2befea460dba"
      },
      "execution_count": 8,
      "outputs": [
        {
          "output_type": "execute_result",
          "data": {
            "text/plain": [
              "     patient_name                                              areas  \\\n",
              "0             081  [739, 610, 2874, 4478, 3018, 4048, 2321, 4656,...   \n",
              "1             062  [25216, 4188, 6095, 1542, 10258, 5595, 1531, 6...   \n",
              "2             053  [5356, 2714, 3791, 3232, 1772, 705, 5442, 664,...   \n",
              "3             082  [21361, 5104, 5072, 2391, 1039, 2672, 6512, 12...   \n",
              "4             015  [758, 21482, 1471, 2561, 3313, 2454, 1150, 224...   \n",
              "..            ...                                                ...   \n",
              "111    10-1106_A1  [675, 512, 895, 2465, 4324, 2460, 5033, 3130, ...   \n",
              "112  C18-30756_A1  [731, 874, 649, 1303, 11921, 571, 4475, 5696, ...   \n",
              "113  C18-30758_A1  [588, 1668, 2935, 515, 1483, 559, 1132, 1567, ...   \n",
              "114  C18-30760_A2  [1235, 1164, 1327, 1481, 2269, 3534, 3210, 228...   \n",
              "115  C18-31135_A1  [1283, 1368, 1330, 4700, 3589, 5502, 950, 526,...   \n",
              "\n",
              "                    background  \\\n",
              "0                      [38313]   \n",
              "1                      [25216]   \n",
              "2                      [44441]   \n",
              "3                      [21361]   \n",
              "4                     [123395]   \n",
              "..                         ...   \n",
              "111                   [141343]   \n",
              "112                    [49102]   \n",
              "113                   [121526]   \n",
              "114                   [103287]   \n",
              "115  [38565, [40392], [48968]]   \n",
              "\n",
              "                                              distants  \\\n",
              "0    [41.7612260356422, 151.0132444522665, 232.2154...   \n",
              "1    [194.67151820438448, 207.03864373589778, 168.7...   \n",
              "2    [77.20103626247513, 136.7186892857008, 202.891...   \n",
              "3    [212.00235847744713, 204.59227746911662, 176.9...   \n",
              "4    [332.4484922510553, 146.10954794263105, 227.05...   \n",
              "..                                                 ...   \n",
              "111  [35.22782990761707, 71.02816342831905, 140.356...   \n",
              "112  [107.22872749408155, 172.02616080119907, 291.1...   \n",
              "113  [34.539832078341085, 58.05170109479997, 127.34...   \n",
              "114  [269.02973813316623, 327.00152904841286, 208.2...   \n",
              "115  [114.43775600735974, 165.10905486980417, 251.0...   \n",
              "\n",
              "                                              flatness  \n",
              "0    [0.5293683295052156, 0.49630525546220755, 0.67...  \n",
              "1    [0.7070402261033385, 0.28536773099813534, 0.78...  \n",
              "2    [0.6610527252355165, 0.7575655114377, 0.740613...  \n",
              "3    [0.8337384596747774, 0.5572314564035804, 0.153...  \n",
              "4    [0.3346330134501553, 0.1586188946844464, 0.427...  \n",
              "..                                                 ...  \n",
              "111  [0.8183047307687908, 0.6338430825461725, 0.819...  \n",
              "112  [0.6619528177523558, 0.918257953069215, 0.3647...  \n",
              "113  [0.8002191246821357, 0.7311477242425742, 0.865...  \n",
              "114  [0.20455151806052574, 0.40793355377291196, 0.8...  \n",
              "115  [0.7166355628765249, 0.8466997695764483, 0.582...  \n",
              "\n",
              "[116 rows x 5 columns]"
            ],
            "text/html": [
              "\n",
              "  <div id=\"df-0dfa2c3a-a5e4-4c46-b01a-44502353622c\" class=\"colab-df-container\">\n",
              "    <div>\n",
              "<style scoped>\n",
              "    .dataframe tbody tr th:only-of-type {\n",
              "        vertical-align: middle;\n",
              "    }\n",
              "\n",
              "    .dataframe tbody tr th {\n",
              "        vertical-align: top;\n",
              "    }\n",
              "\n",
              "    .dataframe thead th {\n",
              "        text-align: right;\n",
              "    }\n",
              "</style>\n",
              "<table border=\"1\" class=\"dataframe\">\n",
              "  <thead>\n",
              "    <tr style=\"text-align: right;\">\n",
              "      <th></th>\n",
              "      <th>patient_name</th>\n",
              "      <th>areas</th>\n",
              "      <th>background</th>\n",
              "      <th>distants</th>\n",
              "      <th>flatness</th>\n",
              "    </tr>\n",
              "  </thead>\n",
              "  <tbody>\n",
              "    <tr>\n",
              "      <th>0</th>\n",
              "      <td>081</td>\n",
              "      <td>[739, 610, 2874, 4478, 3018, 4048, 2321, 4656,...</td>\n",
              "      <td>[38313]</td>\n",
              "      <td>[41.7612260356422, 151.0132444522665, 232.2154...</td>\n",
              "      <td>[0.5293683295052156, 0.49630525546220755, 0.67...</td>\n",
              "    </tr>\n",
              "    <tr>\n",
              "      <th>1</th>\n",
              "      <td>062</td>\n",
              "      <td>[25216, 4188, 6095, 1542, 10258, 5595, 1531, 6...</td>\n",
              "      <td>[25216]</td>\n",
              "      <td>[194.67151820438448, 207.03864373589778, 168.7...</td>\n",
              "      <td>[0.7070402261033385, 0.28536773099813534, 0.78...</td>\n",
              "    </tr>\n",
              "    <tr>\n",
              "      <th>2</th>\n",
              "      <td>053</td>\n",
              "      <td>[5356, 2714, 3791, 3232, 1772, 705, 5442, 664,...</td>\n",
              "      <td>[44441]</td>\n",
              "      <td>[77.20103626247513, 136.7186892857008, 202.891...</td>\n",
              "      <td>[0.6610527252355165, 0.7575655114377, 0.740613...</td>\n",
              "    </tr>\n",
              "    <tr>\n",
              "      <th>3</th>\n",
              "      <td>082</td>\n",
              "      <td>[21361, 5104, 5072, 2391, 1039, 2672, 6512, 12...</td>\n",
              "      <td>[21361]</td>\n",
              "      <td>[212.00235847744713, 204.59227746911662, 176.9...</td>\n",
              "      <td>[0.8337384596747774, 0.5572314564035804, 0.153...</td>\n",
              "    </tr>\n",
              "    <tr>\n",
              "      <th>4</th>\n",
              "      <td>015</td>\n",
              "      <td>[758, 21482, 1471, 2561, 3313, 2454, 1150, 224...</td>\n",
              "      <td>[123395]</td>\n",
              "      <td>[332.4484922510553, 146.10954794263105, 227.05...</td>\n",
              "      <td>[0.3346330134501553, 0.1586188946844464, 0.427...</td>\n",
              "    </tr>\n",
              "    <tr>\n",
              "      <th>...</th>\n",
              "      <td>...</td>\n",
              "      <td>...</td>\n",
              "      <td>...</td>\n",
              "      <td>...</td>\n",
              "      <td>...</td>\n",
              "    </tr>\n",
              "    <tr>\n",
              "      <th>111</th>\n",
              "      <td>10-1106_A1</td>\n",
              "      <td>[675, 512, 895, 2465, 4324, 2460, 5033, 3130, ...</td>\n",
              "      <td>[141343]</td>\n",
              "      <td>[35.22782990761707, 71.02816342831905, 140.356...</td>\n",
              "      <td>[0.8183047307687908, 0.6338430825461725, 0.819...</td>\n",
              "    </tr>\n",
              "    <tr>\n",
              "      <th>112</th>\n",
              "      <td>C18-30756_A1</td>\n",
              "      <td>[731, 874, 649, 1303, 11921, 571, 4475, 5696, ...</td>\n",
              "      <td>[49102]</td>\n",
              "      <td>[107.22872749408155, 172.02616080119907, 291.1...</td>\n",
              "      <td>[0.6619528177523558, 0.918257953069215, 0.3647...</td>\n",
              "    </tr>\n",
              "    <tr>\n",
              "      <th>113</th>\n",
              "      <td>C18-30758_A1</td>\n",
              "      <td>[588, 1668, 2935, 515, 1483, 559, 1132, 1567, ...</td>\n",
              "      <td>[121526]</td>\n",
              "      <td>[34.539832078341085, 58.05170109479997, 127.34...</td>\n",
              "      <td>[0.8002191246821357, 0.7311477242425742, 0.865...</td>\n",
              "    </tr>\n",
              "    <tr>\n",
              "      <th>114</th>\n",
              "      <td>C18-30760_A2</td>\n",
              "      <td>[1235, 1164, 1327, 1481, 2269, 3534, 3210, 228...</td>\n",
              "      <td>[103287]</td>\n",
              "      <td>[269.02973813316623, 327.00152904841286, 208.2...</td>\n",
              "      <td>[0.20455151806052574, 0.40793355377291196, 0.8...</td>\n",
              "    </tr>\n",
              "    <tr>\n",
              "      <th>115</th>\n",
              "      <td>C18-31135_A1</td>\n",
              "      <td>[1283, 1368, 1330, 4700, 3589, 5502, 950, 526,...</td>\n",
              "      <td>[38565, [40392], [48968]]</td>\n",
              "      <td>[114.43775600735974, 165.10905486980417, 251.0...</td>\n",
              "      <td>[0.7166355628765249, 0.8466997695764483, 0.582...</td>\n",
              "    </tr>\n",
              "  </tbody>\n",
              "</table>\n",
              "<p>116 rows × 5 columns</p>\n",
              "</div>\n",
              "    <div class=\"colab-df-buttons\">\n",
              "\n",
              "  <div class=\"colab-df-container\">\n",
              "    <button class=\"colab-df-convert\" onclick=\"convertToInteractive('df-0dfa2c3a-a5e4-4c46-b01a-44502353622c')\"\n",
              "            title=\"Convert this dataframe to an interactive table.\"\n",
              "            style=\"display:none;\">\n",
              "\n",
              "  <svg xmlns=\"http://www.w3.org/2000/svg\" height=\"24px\" viewBox=\"0 -960 960 960\">\n",
              "    <path d=\"M120-120v-720h720v720H120Zm60-500h600v-160H180v160Zm220 220h160v-160H400v160Zm0 220h160v-160H400v160ZM180-400h160v-160H180v160Zm440 0h160v-160H620v160ZM180-180h160v-160H180v160Zm440 0h160v-160H620v160Z\"/>\n",
              "  </svg>\n",
              "    </button>\n",
              "\n",
              "  <style>\n",
              "    .colab-df-container {\n",
              "      display:flex;\n",
              "      gap: 12px;\n",
              "    }\n",
              "\n",
              "    .colab-df-convert {\n",
              "      background-color: #E8F0FE;\n",
              "      border: none;\n",
              "      border-radius: 50%;\n",
              "      cursor: pointer;\n",
              "      display: none;\n",
              "      fill: #1967D2;\n",
              "      height: 32px;\n",
              "      padding: 0 0 0 0;\n",
              "      width: 32px;\n",
              "    }\n",
              "\n",
              "    .colab-df-convert:hover {\n",
              "      background-color: #E2EBFA;\n",
              "      box-shadow: 0px 1px 2px rgba(60, 64, 67, 0.3), 0px 1px 3px 1px rgba(60, 64, 67, 0.15);\n",
              "      fill: #174EA6;\n",
              "    }\n",
              "\n",
              "    .colab-df-buttons div {\n",
              "      margin-bottom: 4px;\n",
              "    }\n",
              "\n",
              "    [theme=dark] .colab-df-convert {\n",
              "      background-color: #3B4455;\n",
              "      fill: #D2E3FC;\n",
              "    }\n",
              "\n",
              "    [theme=dark] .colab-df-convert:hover {\n",
              "      background-color: #434B5C;\n",
              "      box-shadow: 0px 1px 3px 1px rgba(0, 0, 0, 0.15);\n",
              "      filter: drop-shadow(0px 1px 2px rgba(0, 0, 0, 0.3));\n",
              "      fill: #FFFFFF;\n",
              "    }\n",
              "  </style>\n",
              "\n",
              "    <script>\n",
              "      const buttonEl =\n",
              "        document.querySelector('#df-0dfa2c3a-a5e4-4c46-b01a-44502353622c button.colab-df-convert');\n",
              "      buttonEl.style.display =\n",
              "        google.colab.kernel.accessAllowed ? 'block' : 'none';\n",
              "\n",
              "      async function convertToInteractive(key) {\n",
              "        const element = document.querySelector('#df-0dfa2c3a-a5e4-4c46-b01a-44502353622c');\n",
              "        const dataTable =\n",
              "          await google.colab.kernel.invokeFunction('convertToInteractive',\n",
              "                                                    [key], {});\n",
              "        if (!dataTable) return;\n",
              "\n",
              "        const docLinkHtml = 'Like what you see? Visit the ' +\n",
              "          '<a target=\"_blank\" href=https://colab.research.google.com/notebooks/data_table.ipynb>data table notebook</a>'\n",
              "          + ' to learn more about interactive tables.';\n",
              "        element.innerHTML = '';\n",
              "        dataTable['output_type'] = 'display_data';\n",
              "        await google.colab.output.renderOutput(dataTable, element);\n",
              "        const docLink = document.createElement('div');\n",
              "        docLink.innerHTML = docLinkHtml;\n",
              "        element.appendChild(docLink);\n",
              "      }\n",
              "    </script>\n",
              "  </div>\n",
              "\n",
              "\n",
              "<div id=\"df-06a98b50-4885-4320-8c52-00f51417a76f\">\n",
              "  <button class=\"colab-df-quickchart\" onclick=\"quickchart('df-06a98b50-4885-4320-8c52-00f51417a76f')\"\n",
              "            title=\"Suggest charts\"\n",
              "            style=\"display:none;\">\n",
              "\n",
              "<svg xmlns=\"http://www.w3.org/2000/svg\" height=\"24px\"viewBox=\"0 0 24 24\"\n",
              "     width=\"24px\">\n",
              "    <g>\n",
              "        <path d=\"M19 3H5c-1.1 0-2 .9-2 2v14c0 1.1.9 2 2 2h14c1.1 0 2-.9 2-2V5c0-1.1-.9-2-2-2zM9 17H7v-7h2v7zm4 0h-2V7h2v10zm4 0h-2v-4h2v4z\"/>\n",
              "    </g>\n",
              "</svg>\n",
              "  </button>\n",
              "\n",
              "<style>\n",
              "  .colab-df-quickchart {\n",
              "      --bg-color: #E8F0FE;\n",
              "      --fill-color: #1967D2;\n",
              "      --hover-bg-color: #E2EBFA;\n",
              "      --hover-fill-color: #174EA6;\n",
              "      --disabled-fill-color: #AAA;\n",
              "      --disabled-bg-color: #DDD;\n",
              "  }\n",
              "\n",
              "  [theme=dark] .colab-df-quickchart {\n",
              "      --bg-color: #3B4455;\n",
              "      --fill-color: #D2E3FC;\n",
              "      --hover-bg-color: #434B5C;\n",
              "      --hover-fill-color: #FFFFFF;\n",
              "      --disabled-bg-color: #3B4455;\n",
              "      --disabled-fill-color: #666;\n",
              "  }\n",
              "\n",
              "  .colab-df-quickchart {\n",
              "    background-color: var(--bg-color);\n",
              "    border: none;\n",
              "    border-radius: 50%;\n",
              "    cursor: pointer;\n",
              "    display: none;\n",
              "    fill: var(--fill-color);\n",
              "    height: 32px;\n",
              "    padding: 0;\n",
              "    width: 32px;\n",
              "  }\n",
              "\n",
              "  .colab-df-quickchart:hover {\n",
              "    background-color: var(--hover-bg-color);\n",
              "    box-shadow: 0 1px 2px rgba(60, 64, 67, 0.3), 0 1px 3px 1px rgba(60, 64, 67, 0.15);\n",
              "    fill: var(--button-hover-fill-color);\n",
              "  }\n",
              "\n",
              "  .colab-df-quickchart-complete:disabled,\n",
              "  .colab-df-quickchart-complete:disabled:hover {\n",
              "    background-color: var(--disabled-bg-color);\n",
              "    fill: var(--disabled-fill-color);\n",
              "    box-shadow: none;\n",
              "  }\n",
              "\n",
              "  .colab-df-spinner {\n",
              "    border: 2px solid var(--fill-color);\n",
              "    border-color: transparent;\n",
              "    border-bottom-color: var(--fill-color);\n",
              "    animation:\n",
              "      spin 1s steps(1) infinite;\n",
              "  }\n",
              "\n",
              "  @keyframes spin {\n",
              "    0% {\n",
              "      border-color: transparent;\n",
              "      border-bottom-color: var(--fill-color);\n",
              "      border-left-color: var(--fill-color);\n",
              "    }\n",
              "    20% {\n",
              "      border-color: transparent;\n",
              "      border-left-color: var(--fill-color);\n",
              "      border-top-color: var(--fill-color);\n",
              "    }\n",
              "    30% {\n",
              "      border-color: transparent;\n",
              "      border-left-color: var(--fill-color);\n",
              "      border-top-color: var(--fill-color);\n",
              "      border-right-color: var(--fill-color);\n",
              "    }\n",
              "    40% {\n",
              "      border-color: transparent;\n",
              "      border-right-color: var(--fill-color);\n",
              "      border-top-color: var(--fill-color);\n",
              "    }\n",
              "    60% {\n",
              "      border-color: transparent;\n",
              "      border-right-color: var(--fill-color);\n",
              "    }\n",
              "    80% {\n",
              "      border-color: transparent;\n",
              "      border-right-color: var(--fill-color);\n",
              "      border-bottom-color: var(--fill-color);\n",
              "    }\n",
              "    90% {\n",
              "      border-color: transparent;\n",
              "      border-bottom-color: var(--fill-color);\n",
              "    }\n",
              "  }\n",
              "</style>\n",
              "\n",
              "  <script>\n",
              "    async function quickchart(key) {\n",
              "      const quickchartButtonEl =\n",
              "        document.querySelector('#' + key + ' button');\n",
              "      quickchartButtonEl.disabled = true;  // To prevent multiple clicks.\n",
              "      quickchartButtonEl.classList.add('colab-df-spinner');\n",
              "      try {\n",
              "        const charts = await google.colab.kernel.invokeFunction(\n",
              "            'suggestCharts', [key], {});\n",
              "      } catch (error) {\n",
              "        console.error('Error during call to suggestCharts:', error);\n",
              "      }\n",
              "      quickchartButtonEl.classList.remove('colab-df-spinner');\n",
              "      quickchartButtonEl.classList.add('colab-df-quickchart-complete');\n",
              "    }\n",
              "    (() => {\n",
              "      let quickchartButtonEl =\n",
              "        document.querySelector('#df-06a98b50-4885-4320-8c52-00f51417a76f button');\n",
              "      quickchartButtonEl.style.display =\n",
              "        google.colab.kernel.accessAllowed ? 'block' : 'none';\n",
              "    })();\n",
              "  </script>\n",
              "</div>\n",
              "    </div>\n",
              "  </div>\n"
            ],
            "application/vnd.google.colaboratory.intrinsic+json": {
              "type": "dataframe",
              "variable_name": "pac_means",
              "summary": "{\n  \"name\": \"pac_means\",\n  \"rows\": 116,\n  \"fields\": [\n    {\n      \"column\": \"patient_name\",\n      \"properties\": {\n        \"dtype\": \"category\",\n        \"num_unique_values\": 52,\n        \"samples\": [\n          \"075\",\n          \"C12-4852_A2\",\n          \"C12-2936_A1\"\n        ],\n        \"semantic_type\": \"\",\n        \"description\": \"\"\n      }\n    },\n    {\n      \"column\": \"areas\",\n      \"properties\": {\n        \"dtype\": \"object\",\n        \"semantic_type\": \"\",\n        \"description\": \"\"\n      }\n    },\n    {\n      \"column\": \"background\",\n      \"properties\": {\n        \"dtype\": \"object\",\n        \"semantic_type\": \"\",\n        \"description\": \"\"\n      }\n    },\n    {\n      \"column\": \"distants\",\n      \"properties\": {\n        \"dtype\": \"object\",\n        \"semantic_type\": \"\",\n        \"description\": \"\"\n      }\n    },\n    {\n      \"column\": \"flatness\",\n      \"properties\": {\n        \"dtype\": \"object\",\n        \"semantic_type\": \"\",\n        \"description\": \"\"\n      }\n    }\n  ]\n}"
            }
          },
          "metadata": {},
          "execution_count": 8
        }
      ]
    },
    {
      "cell_type": "code",
      "source": [
        "def vals_to_list(row):\n",
        "    vals = []\n",
        "    for i, val in enumerate(row):\n",
        "        if isinstance(val, list) :\n",
        "            for i2, val2 in enumerate(val):\n",
        "                vals.append(val)\n",
        "        else :\n",
        "            vals.append(val)\n",
        "\n",
        "    return vals\n"
      ],
      "metadata": {
        "id": "4mbHSs-zfTpA"
      },
      "execution_count": 9,
      "outputs": []
    },
    {
      "cell_type": "code",
      "source": [
        "pac_means['areas'] = pac_means['areas'].apply(vals_to_list)\n",
        "pac_means['background'] = pac_means['background'].apply(vals_to_list)\n",
        "pac_means['distants'] = pac_means['distants'].apply(vals_to_list)\n",
        "pac_means['flatness'] = pac_means['flatness'].apply(vals_to_list)"
      ],
      "metadata": {
        "id": "-QKFFw9Z7s1X"
      },
      "execution_count": 10,
      "outputs": []
    },
    {
      "cell_type": "code",
      "source": [
        "pac_means.to_csv('/content/drive/MyDrive/FAT_CELLS/Pac_features.csv')"
      ],
      "metadata": {
        "id": "DYmeTZ1Q7ylQ"
      },
      "execution_count": 11,
      "outputs": []
    }
  ]
}